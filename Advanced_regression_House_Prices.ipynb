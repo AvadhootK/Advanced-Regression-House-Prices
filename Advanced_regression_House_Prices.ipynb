{
  "nbformat": 4,
  "nbformat_minor": 0,
  "metadata": {
    "colab": {
      "name": "Advanced-regression-House-Prices.ipynb",
      "provenance": []
    },
    "kernelspec": {
      "name": "python3",
      "display_name": "Python 3"
    },
    "language_info": {
      "name": "python"
    }
  },
  "cells": [
    {
      "cell_type": "code",
      "execution_count": 2,
      "metadata": {
        "id": "oSpzselXhbq9"
      },
      "outputs": [],
      "source": [
        "import pandas as pd\n",
        "import numpy as np\n",
        "import matplotlib.pyplot as plt\n",
        "import seaborn as sns\n",
        "from sklearn.model_selection import train_test_split\n",
        "from sklearn.metrics import mean_squared_error\n",
        "from sklearn import linear_model"
      ]
    },
    {
      "cell_type": "code",
      "source": [
        "train = pd.read_csv('/content/sample_data/train.csv')\n",
        "test = pd.read_csv('/content/sample_data/test.csv')"
      ],
      "metadata": {
        "id": "w3Qw23ovhdTJ"
      },
      "execution_count": 3,
      "outputs": []
    },
    {
      "cell_type": "code",
      "source": [
        "print(\"Train dataset shape:\",train.shape)\n",
        "print(\"Test dataset shape:\",test.shape)"
      ],
      "metadata": {
        "colab": {
          "base_uri": "https://localhost:8080/"
        },
        "id": "A-31Zr_ThxxM",
        "outputId": "f11e8e0b-8960-4e47-d753-a9c37989d4dc"
      },
      "execution_count": 4,
      "outputs": [
        {
          "output_type": "stream",
          "name": "stdout",
          "text": [
            "Train dataset shape: (1460, 81)\n",
            "Test dataset shape: (1459, 80)\n"
          ]
        }
      ]
    },
    {
      "cell_type": "code",
      "source": [
        "train.head()"
      ],
      "metadata": {
        "colab": {
          "base_uri": "https://localhost:8080/",
          "height": 300
        },
        "id": "H_smWjPNiAnl",
        "outputId": "57defb3a-13cb-499b-aeb3-7c32f6967ace"
      },
      "execution_count": 5,
      "outputs": [
        {
          "output_type": "execute_result",
          "data": {
            "text/plain": [
              "   Id  MSSubClass MSZoning  LotFrontage  LotArea Street Alley LotShape  \\\n",
              "0   1          60       RL         65.0     8450   Pave   NaN      Reg   \n",
              "1   2          20       RL         80.0     9600   Pave   NaN      Reg   \n",
              "2   3          60       RL         68.0    11250   Pave   NaN      IR1   \n",
              "3   4          70       RL         60.0     9550   Pave   NaN      IR1   \n",
              "4   5          60       RL         84.0    14260   Pave   NaN      IR1   \n",
              "\n",
              "  LandContour Utilities  ... PoolArea PoolQC Fence MiscFeature MiscVal MoSold  \\\n",
              "0         Lvl    AllPub  ...        0    NaN   NaN         NaN       0      2   \n",
              "1         Lvl    AllPub  ...        0    NaN   NaN         NaN       0      5   \n",
              "2         Lvl    AllPub  ...        0    NaN   NaN         NaN       0      9   \n",
              "3         Lvl    AllPub  ...        0    NaN   NaN         NaN       0      2   \n",
              "4         Lvl    AllPub  ...        0    NaN   NaN         NaN       0     12   \n",
              "\n",
              "  YrSold  SaleType  SaleCondition  SalePrice  \n",
              "0   2008        WD         Normal     208500  \n",
              "1   2007        WD         Normal     181500  \n",
              "2   2008        WD         Normal     223500  \n",
              "3   2006        WD        Abnorml     140000  \n",
              "4   2008        WD         Normal     250000  \n",
              "\n",
              "[5 rows x 81 columns]"
            ],
            "text/html": [
              "\n",
              "  <div id=\"df-e33dce15-41df-4f79-a7b1-90baece39c57\">\n",
              "    <div class=\"colab-df-container\">\n",
              "      <div>\n",
              "<style scoped>\n",
              "    .dataframe tbody tr th:only-of-type {\n",
              "        vertical-align: middle;\n",
              "    }\n",
              "\n",
              "    .dataframe tbody tr th {\n",
              "        vertical-align: top;\n",
              "    }\n",
              "\n",
              "    .dataframe thead th {\n",
              "        text-align: right;\n",
              "    }\n",
              "</style>\n",
              "<table border=\"1\" class=\"dataframe\">\n",
              "  <thead>\n",
              "    <tr style=\"text-align: right;\">\n",
              "      <th></th>\n",
              "      <th>Id</th>\n",
              "      <th>MSSubClass</th>\n",
              "      <th>MSZoning</th>\n",
              "      <th>LotFrontage</th>\n",
              "      <th>LotArea</th>\n",
              "      <th>Street</th>\n",
              "      <th>Alley</th>\n",
              "      <th>LotShape</th>\n",
              "      <th>LandContour</th>\n",
              "      <th>Utilities</th>\n",
              "      <th>...</th>\n",
              "      <th>PoolArea</th>\n",
              "      <th>PoolQC</th>\n",
              "      <th>Fence</th>\n",
              "      <th>MiscFeature</th>\n",
              "      <th>MiscVal</th>\n",
              "      <th>MoSold</th>\n",
              "      <th>YrSold</th>\n",
              "      <th>SaleType</th>\n",
              "      <th>SaleCondition</th>\n",
              "      <th>SalePrice</th>\n",
              "    </tr>\n",
              "  </thead>\n",
              "  <tbody>\n",
              "    <tr>\n",
              "      <th>0</th>\n",
              "      <td>1</td>\n",
              "      <td>60</td>\n",
              "      <td>RL</td>\n",
              "      <td>65.0</td>\n",
              "      <td>8450</td>\n",
              "      <td>Pave</td>\n",
              "      <td>NaN</td>\n",
              "      <td>Reg</td>\n",
              "      <td>Lvl</td>\n",
              "      <td>AllPub</td>\n",
              "      <td>...</td>\n",
              "      <td>0</td>\n",
              "      <td>NaN</td>\n",
              "      <td>NaN</td>\n",
              "      <td>NaN</td>\n",
              "      <td>0</td>\n",
              "      <td>2</td>\n",
              "      <td>2008</td>\n",
              "      <td>WD</td>\n",
              "      <td>Normal</td>\n",
              "      <td>208500</td>\n",
              "    </tr>\n",
              "    <tr>\n",
              "      <th>1</th>\n",
              "      <td>2</td>\n",
              "      <td>20</td>\n",
              "      <td>RL</td>\n",
              "      <td>80.0</td>\n",
              "      <td>9600</td>\n",
              "      <td>Pave</td>\n",
              "      <td>NaN</td>\n",
              "      <td>Reg</td>\n",
              "      <td>Lvl</td>\n",
              "      <td>AllPub</td>\n",
              "      <td>...</td>\n",
              "      <td>0</td>\n",
              "      <td>NaN</td>\n",
              "      <td>NaN</td>\n",
              "      <td>NaN</td>\n",
              "      <td>0</td>\n",
              "      <td>5</td>\n",
              "      <td>2007</td>\n",
              "      <td>WD</td>\n",
              "      <td>Normal</td>\n",
              "      <td>181500</td>\n",
              "    </tr>\n",
              "    <tr>\n",
              "      <th>2</th>\n",
              "      <td>3</td>\n",
              "      <td>60</td>\n",
              "      <td>RL</td>\n",
              "      <td>68.0</td>\n",
              "      <td>11250</td>\n",
              "      <td>Pave</td>\n",
              "      <td>NaN</td>\n",
              "      <td>IR1</td>\n",
              "      <td>Lvl</td>\n",
              "      <td>AllPub</td>\n",
              "      <td>...</td>\n",
              "      <td>0</td>\n",
              "      <td>NaN</td>\n",
              "      <td>NaN</td>\n",
              "      <td>NaN</td>\n",
              "      <td>0</td>\n",
              "      <td>9</td>\n",
              "      <td>2008</td>\n",
              "      <td>WD</td>\n",
              "      <td>Normal</td>\n",
              "      <td>223500</td>\n",
              "    </tr>\n",
              "    <tr>\n",
              "      <th>3</th>\n",
              "      <td>4</td>\n",
              "      <td>70</td>\n",
              "      <td>RL</td>\n",
              "      <td>60.0</td>\n",
              "      <td>9550</td>\n",
              "      <td>Pave</td>\n",
              "      <td>NaN</td>\n",
              "      <td>IR1</td>\n",
              "      <td>Lvl</td>\n",
              "      <td>AllPub</td>\n",
              "      <td>...</td>\n",
              "      <td>0</td>\n",
              "      <td>NaN</td>\n",
              "      <td>NaN</td>\n",
              "      <td>NaN</td>\n",
              "      <td>0</td>\n",
              "      <td>2</td>\n",
              "      <td>2006</td>\n",
              "      <td>WD</td>\n",
              "      <td>Abnorml</td>\n",
              "      <td>140000</td>\n",
              "    </tr>\n",
              "    <tr>\n",
              "      <th>4</th>\n",
              "      <td>5</td>\n",
              "      <td>60</td>\n",
              "      <td>RL</td>\n",
              "      <td>84.0</td>\n",
              "      <td>14260</td>\n",
              "      <td>Pave</td>\n",
              "      <td>NaN</td>\n",
              "      <td>IR1</td>\n",
              "      <td>Lvl</td>\n",
              "      <td>AllPub</td>\n",
              "      <td>...</td>\n",
              "      <td>0</td>\n",
              "      <td>NaN</td>\n",
              "      <td>NaN</td>\n",
              "      <td>NaN</td>\n",
              "      <td>0</td>\n",
              "      <td>12</td>\n",
              "      <td>2008</td>\n",
              "      <td>WD</td>\n",
              "      <td>Normal</td>\n",
              "      <td>250000</td>\n",
              "    </tr>\n",
              "  </tbody>\n",
              "</table>\n",
              "<p>5 rows × 81 columns</p>\n",
              "</div>\n",
              "      <button class=\"colab-df-convert\" onclick=\"convertToInteractive('df-e33dce15-41df-4f79-a7b1-90baece39c57')\"\n",
              "              title=\"Convert this dataframe to an interactive table.\"\n",
              "              style=\"display:none;\">\n",
              "        \n",
              "  <svg xmlns=\"http://www.w3.org/2000/svg\" height=\"24px\"viewBox=\"0 0 24 24\"\n",
              "       width=\"24px\">\n",
              "    <path d=\"M0 0h24v24H0V0z\" fill=\"none\"/>\n",
              "    <path d=\"M18.56 5.44l.94 2.06.94-2.06 2.06-.94-2.06-.94-.94-2.06-.94 2.06-2.06.94zm-11 1L8.5 8.5l.94-2.06 2.06-.94-2.06-.94L8.5 2.5l-.94 2.06-2.06.94zm10 10l.94 2.06.94-2.06 2.06-.94-2.06-.94-.94-2.06-.94 2.06-2.06.94z\"/><path d=\"M17.41 7.96l-1.37-1.37c-.4-.4-.92-.59-1.43-.59-.52 0-1.04.2-1.43.59L10.3 9.45l-7.72 7.72c-.78.78-.78 2.05 0 2.83L4 21.41c.39.39.9.59 1.41.59.51 0 1.02-.2 1.41-.59l7.78-7.78 2.81-2.81c.8-.78.8-2.07 0-2.86zM5.41 20L4 18.59l7.72-7.72 1.47 1.35L5.41 20z\"/>\n",
              "  </svg>\n",
              "      </button>\n",
              "      \n",
              "  <style>\n",
              "    .colab-df-container {\n",
              "      display:flex;\n",
              "      flex-wrap:wrap;\n",
              "      gap: 12px;\n",
              "    }\n",
              "\n",
              "    .colab-df-convert {\n",
              "      background-color: #E8F0FE;\n",
              "      border: none;\n",
              "      border-radius: 50%;\n",
              "      cursor: pointer;\n",
              "      display: none;\n",
              "      fill: #1967D2;\n",
              "      height: 32px;\n",
              "      padding: 0 0 0 0;\n",
              "      width: 32px;\n",
              "    }\n",
              "\n",
              "    .colab-df-convert:hover {\n",
              "      background-color: #E2EBFA;\n",
              "      box-shadow: 0px 1px 2px rgba(60, 64, 67, 0.3), 0px 1px 3px 1px rgba(60, 64, 67, 0.15);\n",
              "      fill: #174EA6;\n",
              "    }\n",
              "\n",
              "    [theme=dark] .colab-df-convert {\n",
              "      background-color: #3B4455;\n",
              "      fill: #D2E3FC;\n",
              "    }\n",
              "\n",
              "    [theme=dark] .colab-df-convert:hover {\n",
              "      background-color: #434B5C;\n",
              "      box-shadow: 0px 1px 3px 1px rgba(0, 0, 0, 0.15);\n",
              "      filter: drop-shadow(0px 1px 2px rgba(0, 0, 0, 0.3));\n",
              "      fill: #FFFFFF;\n",
              "    }\n",
              "  </style>\n",
              "\n",
              "      <script>\n",
              "        const buttonEl =\n",
              "          document.querySelector('#df-e33dce15-41df-4f79-a7b1-90baece39c57 button.colab-df-convert');\n",
              "        buttonEl.style.display =\n",
              "          google.colab.kernel.accessAllowed ? 'block' : 'none';\n",
              "\n",
              "        async function convertToInteractive(key) {\n",
              "          const element = document.querySelector('#df-e33dce15-41df-4f79-a7b1-90baece39c57');\n",
              "          const dataTable =\n",
              "            await google.colab.kernel.invokeFunction('convertToInteractive',\n",
              "                                                     [key], {});\n",
              "          if (!dataTable) return;\n",
              "\n",
              "          const docLinkHtml = 'Like what you see? Visit the ' +\n",
              "            '<a target=\"_blank\" href=https://colab.research.google.com/notebooks/data_table.ipynb>data table notebook</a>'\n",
              "            + ' to learn more about interactive tables.';\n",
              "          element.innerHTML = '';\n",
              "          dataTable['output_type'] = 'display_data';\n",
              "          await google.colab.output.renderOutput(dataTable, element);\n",
              "          const docLink = document.createElement('div');\n",
              "          docLink.innerHTML = docLinkHtml;\n",
              "          element.appendChild(docLink);\n",
              "        }\n",
              "      </script>\n",
              "    </div>\n",
              "  </div>\n",
              "  "
            ]
          },
          "metadata": {},
          "execution_count": 5
        }
      ]
    },
    {
      "cell_type": "code",
      "source": [
        "print(train.SalePrice.describe())"
      ],
      "metadata": {
        "colab": {
          "base_uri": "https://localhost:8080/"
        },
        "id": "Hm5AlVQFiEMd",
        "outputId": "37b752e5-364c-449e-ca84-01fc4b44b66b"
      },
      "execution_count": 6,
      "outputs": [
        {
          "output_type": "stream",
          "name": "stdout",
          "text": [
            "count      1460.000000\n",
            "mean     180921.195890\n",
            "std       79442.502883\n",
            "min       34900.000000\n",
            "25%      129975.000000\n",
            "50%      163000.000000\n",
            "75%      214000.000000\n",
            "max      755000.000000\n",
            "Name: SalePrice, dtype: float64\n"
          ]
        }
      ]
    },
    {
      "cell_type": "code",
      "source": [
        "print(\"Skew:\",train.SalePrice.skew())\n",
        "plt.hist(train.SalePrice, color='blue')\n",
        "plt.show"
      ],
      "metadata": {
        "colab": {
          "base_uri": "https://localhost:8080/",
          "height": 300
        },
        "id": "-7c7g2aQiRhR",
        "outputId": "5335bdd3-8093-439e-f0a0-ffe7f8f2ebe9"
      },
      "execution_count": 7,
      "outputs": [
        {
          "output_type": "stream",
          "name": "stdout",
          "text": [
            "Skew: 1.8828757597682129\n"
          ]
        },
        {
          "output_type": "execute_result",
          "data": {
            "text/plain": [
              "<function matplotlib.pyplot.show>"
            ]
          },
          "metadata": {},
          "execution_count": 7
        },
        {
          "output_type": "display_data",
          "data": {
            "text/plain": [
              "<Figure size 432x288 with 1 Axes>"
            ],
            "image/png": "[encoded data removed]"
          },
          "metadata": {
            "needs_background": "light"
          }
        }
      ]
    },
    {
      "cell_type": "code",
      "source": [
        "target = np.log(train.SalePrice)\n",
        "print(target.skew())\n",
        "plt.hist(target,color='blue')\n",
        "plt.show()"
      ],
      "metadata": {
        "colab": {
          "base_uri": "https://localhost:8080/",
          "height": 282
        },
        "id": "A0HtplAYiqFm",
        "outputId": "ce0ed935-9184-4655-fb1c-b7796747b93b"
      },
      "execution_count": 8,
      "outputs": [
        {
          "output_type": "stream",
          "name": "stdout",
          "text": [
            "0.12133506220520406\n"
          ]
        },
        {
          "output_type": "display_data",
          "data": {
            "text/plain": [
              "<Figure size 432x288 with 1 Axes>"
            ],
            "image/png": "[encoded data removed]"
          },
          "metadata": {
            "needs_background": "light"
          }
        }
      ]
    },
    {
      "cell_type": "code",
      "source": [
        "numeric_features = train.select_dtypes(include=[np.number])\n",
        "print(numeric_features.dtypes)"
      ],
      "metadata": {
        "colab": {
          "base_uri": "https://localhost:8080/"
        },
        "id": "sMjut2Roi9lp",
        "outputId": "32ef3b9c-2e81-4a7d-edba-8c7fbb8c36c8"
      },
      "execution_count": 9,
      "outputs": [
        {
          "output_type": "stream",
          "name": "stdout",
          "text": [
            "Id                 int64\n",
            "MSSubClass         int64\n",
            "LotFrontage      float64\n",
            "LotArea            int64\n",
            "OverallQual        int64\n",
            "OverallCond        int64\n",
            "YearBuilt          int64\n",
            "YearRemodAdd       int64\n",
            "MasVnrArea       float64\n",
            "BsmtFinSF1         int64\n",
            "BsmtFinSF2         int64\n",
            "BsmtUnfSF          int64\n",
            "TotalBsmtSF        int64\n",
            "1stFlrSF           int64\n",
            "2ndFlrSF           int64\n",
            "LowQualFinSF       int64\n",
            "GrLivArea          int64\n",
            "BsmtFullBath       int64\n",
            "BsmtHalfBath       int64\n",
            "FullBath           int64\n",
            "HalfBath           int64\n",
            "BedroomAbvGr       int64\n",
            "KitchenAbvGr       int64\n",
            "TotRmsAbvGrd       int64\n",
            "Fireplaces         int64\n",
            "GarageYrBlt      float64\n",
            "GarageCars         int64\n",
            "GarageArea         int64\n",
            "WoodDeckSF         int64\n",
            "OpenPorchSF        int64\n",
            "EnclosedPorch      int64\n",
            "3SsnPorch          int64\n",
            "ScreenPorch        int64\n",
            "PoolArea           int64\n",
            "MiscVal            int64\n",
            "MoSold             int64\n",
            "YrSold             int64\n",
            "SalePrice          int64\n",
            "dtype: object\n"
          ]
        }
      ]
    },
    {
      "cell_type": "code",
      "source": [
        "corr = numeric_features.corr()"
      ],
      "metadata": {
        "id": "N5TRBsUjlXac"
      },
      "execution_count": 10,
      "outputs": []
    },
    {
      "cell_type": "code",
      "source": [
        "print(corr['SalePrice'].sort_values(ascending=False)[:5],'\\n')\n",
        "print(corr['SalePrice'].sort_values(ascending=False)[-5:])"
      ],
      "metadata": {
        "colab": {
          "base_uri": "https://localhost:8080/"
        },
        "id": "-a4c6CJ-l2p4",
        "outputId": "8ed909be-a9f2-4ae8-957f-fd540872f590"
      },
      "execution_count": 11,
      "outputs": [
        {
          "output_type": "stream",
          "name": "stdout",
          "text": [
            "SalePrice      1.000000\n",
            "OverallQual    0.790982\n",
            "GrLivArea      0.708624\n",
            "GarageCars     0.640409\n",
            "GarageArea     0.623431\n",
            "Name: SalePrice, dtype: float64 \n",
            "\n",
            "YrSold          -0.028923\n",
            "OverallCond     -0.077856\n",
            "MSSubClass      -0.084284\n",
            "EnclosedPorch   -0.128578\n",
            "KitchenAbvGr    -0.135907\n",
            "Name: SalePrice, dtype: float64\n"
          ]
        }
      ]
    },
    {
      "cell_type": "code",
      "source": [
        "print(train.OverallQual.unique())"
      ],
      "metadata": {
        "colab": {
          "base_uri": "https://localhost:8080/"
        },
        "id": "tSDBjmF5mG8q",
        "outputId": "40405222-7e99-4ba4-dd31-45bf8f9a90a9"
      },
      "execution_count": 12,
      "outputs": [
        {
          "output_type": "stream",
          "name": "stdout",
          "text": [
            "[ 7  6  8  5  9  4 10  3  1  2]\n"
          ]
        }
      ]
    },
    {
      "cell_type": "code",
      "source": [
        "quality_pivot = train.pivot_table(index='OverallQual',values='SalePrice',aggfunc=np.median)\n",
        "print(quality_pivot)"
      ],
      "metadata": {
        "colab": {
          "base_uri": "https://localhost:8080/"
        },
        "id": "chw3lnGdmT2S",
        "outputId": "01359343-1204-4b82-df33-289528fec22f"
      },
      "execution_count": 13,
      "outputs": [
        {
          "output_type": "stream",
          "name": "stdout",
          "text": [
            "             SalePrice\n",
            "OverallQual           \n",
            "1                50150\n",
            "2                60000\n",
            "3                86250\n",
            "4               108000\n",
            "5               133000\n",
            "6               160000\n",
            "7               200141\n",
            "8               269750\n",
            "9               345000\n",
            "10              432390\n"
          ]
        }
      ]
    },
    {
      "cell_type": "code",
      "source": [
        "quality_pivot.plot(kind='bar',color='blue')\n",
        "plt.xlabel('Overall Quality')\n",
        "plt.ylabel('Median Sale Price')\n",
        "plt.xticks(rotation=0)\n",
        "plt.show()"
      ],
      "metadata": {
        "colab": {
          "base_uri": "https://localhost:8080/",
          "height": 279
        },
        "id": "qUTQ6rjxmrW0",
        "outputId": "972725ad-a189-4b1f-987a-601c6688035a"
      },
      "execution_count": 14,
      "outputs": [
        {
          "output_type": "display_data",
          "data": {
            "text/plain": [
              "<Figure size 432x288 with 1 Axes>"
            ],
            "image/png": "[encoded data removed]"
          },
          "metadata": {
            "needs_background": "light"
          }
        }
      ]
    },
    {
      "cell_type": "code",
      "source": [
        "plt.scatter(x=train['GrLivArea'],y=target)\n",
        "plt.ylabel('Sale Price')\n",
        "plt.xlabel('Above grade (ground) living area square feet')\n",
        "plt.show()"
      ],
      "metadata": {
        "colab": {
          "base_uri": "https://localhost:8080/",
          "height": 279
        },
        "id": "U5UFEANpnL2Q",
        "outputId": "9a4b11a3-13f5-4192-d50e-154540f7778e"
      },
      "execution_count": 15,
      "outputs": [
        {
          "output_type": "display_data",
          "data": {
            "text/plain": [
              "<Figure size 432x288 with 1 Axes>"
            ],
            "image/png": "[encoded data removed]"
          },
          "metadata": {
            "needs_background": "light"
          }
        }
      ]
    },
    {
      "cell_type": "code",
      "source": [
        "plt.scatter(x=train['GarageArea'],y=target)\n",
        "plt.ylabel('Sale Price')\n",
        "plt.xlabel('Garage Area')\n",
        "plt.show()"
      ],
      "metadata": {
        "colab": {
          "base_uri": "https://localhost:8080/",
          "height": 279
        },
        "id": "LvGMfKRcnqdg",
        "outputId": "7f1b2499-7d63-443d-ef91-1655bc05f416"
      },
      "execution_count": 16,
      "outputs": [
        {
          "output_type": "display_data",
          "data": {
            "text/plain": [
              "<Figure size 432x288 with 1 Axes>"
            ],
            "image/png": "[encoded data removed]"
          },
          "metadata": {
            "needs_background": "light"
          }
        }
      ]
    },
    {
      "cell_type": "code",
      "source": [
        "train = train[train['GarageArea'] < 1200]"
      ],
      "metadata": {
        "id": "4Nb2QWLDn7R0"
      },
      "execution_count": 17,
      "outputs": []
    },
    {
      "cell_type": "code",
      "source": [
        "plt.scatter(x=train['GarageArea'],y=np.log(train.SalePrice))\n",
        "plt.xlim(-200,1600)\n",
        "plt.ylabel('Sale Price')\n",
        "plt.xlabel('Garage Area')\n",
        "plt.show()"
      ],
      "metadata": {
        "colab": {
          "base_uri": "https://localhost:8080/",
          "height": 279
        },
        "id": "9ZNghG8doNyt",
        "outputId": "64a2901b-704c-4ec8-91dd-d2fb5d673850"
      },
      "execution_count": 18,
      "outputs": [
        {
          "output_type": "display_data",
          "data": {
            "text/plain": [
              "<Figure size 432x288 with 1 Axes>"
            ],
            "image/png": "[encoded data removed]"
          },
          "metadata": {
            "needs_background": "light"
          }
        }
      ]
    },
    {
      "cell_type": "code",
      "source": [
        "nulls = pd.DataFrame(train.isnull().sum().sort_values(ascending=False)[:25])\n",
        "nulls.columns = ['Null Count']\n",
        "nulls.index.name = 'Feature'\n",
        "print(nulls)"
      ],
      "metadata": {
        "colab": {
          "base_uri": "https://localhost:8080/"
        },
        "id": "A2M5NtGeoeXH",
        "outputId": "a83d702a-03c5-42bb-f101-91beaf20bb14"
      },
      "execution_count": 19,
      "outputs": [
        {
          "output_type": "stream",
          "name": "stdout",
          "text": [
            "              Null Count\n",
            "Feature                 \n",
            "PoolQC              1449\n",
            "MiscFeature         1402\n",
            "Alley               1364\n",
            "Fence               1174\n",
            "FireplaceQu          689\n",
            "LotFrontage          258\n",
            "GarageCond            81\n",
            "GarageType            81\n",
            "GarageYrBlt           81\n",
            "GarageFinish          81\n",
            "GarageQual            81\n",
            "BsmtExposure          38\n",
            "BsmtFinType2          38\n",
            "BsmtFinType1          37\n",
            "BsmtCond              37\n",
            "BsmtQual              37\n",
            "MasVnrArea             8\n",
            "MasVnrType             8\n",
            "Electrical             1\n",
            "Utilities              0\n",
            "YearRemodAdd           0\n",
            "MSSubClass             0\n",
            "Foundation             0\n",
            "ExterCond              0\n",
            "ExterQual              0\n"
          ]
        }
      ]
    },
    {
      "cell_type": "code",
      "source": [
        "print(\"unique values are:\",train.MiscFeature.unique())"
      ],
      "metadata": {
        "colab": {
          "base_uri": "https://localhost:8080/"
        },
        "id": "P2APdfXKpAFq",
        "outputId": "766c3806-12ab-4d37-ac8e-91b9a6ed3427"
      },
      "execution_count": 20,
      "outputs": [
        {
          "output_type": "stream",
          "name": "stdout",
          "text": [
            "unique values are: [nan 'Shed' 'Gar2' 'Othr' 'TenC']\n"
          ]
        }
      ]
    },
    {
      "cell_type": "code",
      "source": [
        "categoricals = train.select_dtypes(exclude=[np.number])\n",
        "print(categoricals.describe())"
      ],
      "metadata": {
        "colab": {
          "base_uri": "https://localhost:8080/"
        },
        "id": "cHCDCciupnyw",
        "outputId": "2da75514-289d-4390-ab18-1f31c1ad2e42"
      },
      "execution_count": 21,
      "outputs": [
        {
          "output_type": "stream",
          "name": "stdout",
          "text": [
            "       MSZoning Street Alley LotShape LandContour Utilities LotConfig  \\\n",
            "count      1455   1455    91     1455        1455      1455      1455   \n",
            "unique        5      2     2        4           4         2         5   \n",
            "top          RL   Pave  Grvl      Reg         Lvl    AllPub    Inside   \n",
            "freq       1147   1450    50      921        1309      1454      1048   \n",
            "\n",
            "       LandSlope Neighborhood Condition1  ... GarageType GarageFinish  \\\n",
            "count       1455         1455       1455  ...       1374         1374   \n",
            "unique         3           25          9  ...          6            3   \n",
            "top          Gtl        NAmes       Norm  ...     Attchd          Unf   \n",
            "freq        1378          225       1257  ...        867          605   \n",
            "\n",
            "       GarageQual GarageCond PavedDrive PoolQC  Fence MiscFeature SaleType  \\\n",
            "count        1374       1374       1455      6    281          53     1455   \n",
            "unique          5          5          3      3      4           4        9   \n",
            "top            TA         TA          Y     Fa  MnPrv        Shed       WD   \n",
            "freq         1306       1321       1335      2    157          48     1266   \n",
            "\n",
            "       SaleCondition  \n",
            "count           1455  \n",
            "unique             6  \n",
            "top           Normal  \n",
            "freq            1196  \n",
            "\n",
            "[4 rows x 43 columns]\n"
          ]
        }
      ]
    },
    {
      "cell_type": "code",
      "source": [
        "print(train.Street.value_counts(),\"\\n\")"
      ],
      "metadata": {
        "colab": {
          "base_uri": "https://localhost:8080/"
        },
        "id": "Www8gW4Kpx0-",
        "outputId": "97796bf6-b51c-4ef6-92b0-a7f736bb2411"
      },
      "execution_count": 22,
      "outputs": [
        {
          "output_type": "stream",
          "name": "stdout",
          "text": [
            "Pave    1450\n",
            "Grvl       5\n",
            "Name: Street, dtype: int64 \n",
            "\n"
          ]
        }
      ]
    },
    {
      "cell_type": "code",
      "source": [
        "train['enc_street'] = pd.get_dummies(train.Street,drop_first=True)\n",
        "test['enc_street'] = pd.get_dummies(test.Street,drop_first=True)"
      ],
      "metadata": {
        "id": "0ReofbJqqHKT"
      },
      "execution_count": 23,
      "outputs": []
    },
    {
      "cell_type": "code",
      "source": [
        "print(train.enc_street.value_counts(),\"\\n\")"
      ],
      "metadata": {
        "colab": {
          "base_uri": "https://localhost:8080/"
        },
        "id": "77h2b6_tqcas",
        "outputId": "dee88fa2-6ec2-4174-8061-cf2906373b88"
      },
      "execution_count": 24,
      "outputs": [
        {
          "output_type": "stream",
          "name": "stdout",
          "text": [
            "1    1450\n",
            "0       5\n",
            "Name: enc_street, dtype: int64 \n",
            "\n"
          ]
        }
      ]
    },
    {
      "cell_type": "code",
      "source": [
        "condition_pivot = train.pivot_table(index='SaleCondition', values='SalePrice', aggfunc=np.median)\n",
        "condition_pivot.plot(kind='bar', color='blue')\n",
        "plt.xlabel('Sale Condition')\n",
        "plt.ylabel('Median Sale Price')\n",
        "plt.xticks(rotation=0)\n",
        "plt.show()"
      ],
      "metadata": {
        "colab": {
          "base_uri": "https://localhost:8080/",
          "height": 280
        },
        "id": "lFJ14FqoqyE_",
        "outputId": "f69f233f-17b4-41de-8459-b5122c2ee852"
      },
      "execution_count": 25,
      "outputs": [
        {
          "output_type": "display_data",
          "data": {
            "text/plain": [
              "<Figure size 432x288 with 1 Axes>"
            ],
            "image/png": "[encoded data removed]"
          },
          "metadata": {
            "needs_background": "light"
          }
        }
      ]
    },
    {
      "cell_type": "code",
      "source": [
        "def encode(x): return 1 if x == 'Partial' else 0\n",
        "train['enc_condition'] = train.SaleCondition.apply(encode)\n",
        "test['enc_condition'] = test.SaleCondition.apply(encode)"
      ],
      "metadata": {
        "id": "cMECNZ01q43S"
      },
      "execution_count": 26,
      "outputs": []
    },
    {
      "cell_type": "code",
      "source": [
        "condition_pivot = train.pivot_table(index='enc_condition', values='SalePrice', aggfunc=np.median)\n",
        "condition_pivot.plot(kind='bar', color='blue')\n",
        "plt.xlabel('Encoded Sale Condition')\n",
        "plt.ylabel('Median Sale Price')\n",
        "plt.xticks(rotation=0)\n",
        "plt.show()"
      ],
      "metadata": {
        "colab": {
          "base_uri": "https://localhost:8080/",
          "height": 280
        },
        "id": "hnSpE-Z1rYaf",
        "outputId": "594aa1af-4f26-4711-c234-4fe9e2eefbdf"
      },
      "execution_count": 27,
      "outputs": [
        {
          "output_type": "display_data",
          "data": {
            "text/plain": [
              "<Figure size 432x288 with 1 Axes>"
            ],
            "image/png": "[encoded data removed]"
          },
          "metadata": {
            "needs_background": "light"
          }
        }
      ]
    },
    {
      "cell_type": "code",
      "source": [
        "data = train.select_dtypes(include=[np.number]).interpolate().dropna()"
      ],
      "metadata": {
        "id": "2l56_oxdrciR"
      },
      "execution_count": 28,
      "outputs": []
    },
    {
      "cell_type": "code",
      "source": [
        "print(sum(data.isnull().sum() != 0))"
      ],
      "metadata": {
        "colab": {
          "base_uri": "https://localhost:8080/"
        },
        "id": "GqUBOx_zr5wR",
        "outputId": "eca7cf04-2520-45fa-c567-443d7a3550d5"
      },
      "execution_count": 29,
      "outputs": [
        {
          "output_type": "stream",
          "name": "stdout",
          "text": [
            "0\n"
          ]
        }
      ]
    },
    {
      "cell_type": "code",
      "source": [
        "y = np.log(train.SalePrice)\n",
        "x = data.drop(['SalePrice','Id'],axis=1)"
      ],
      "metadata": {
        "id": "MaQUFzYCsDm1"
      },
      "execution_count": 30,
      "outputs": []
    },
    {
      "cell_type": "code",
      "source": [
        "x_train, x_test, y_train, y_test = train_test_split(x, y, random_state=42, test_size=.33)"
      ],
      "metadata": {
        "id": "708l903CsWN_"
      },
      "execution_count": 31,
      "outputs": []
    },
    {
      "cell_type": "code",
      "source": [
        "!pip install lazypredict"
      ],
      "metadata": {
        "colab": {
          "base_uri": "https://localhost:8080/"
        },
        "id": "5ws76m-QVOfy",
        "outputId": "8430b139-9bde-4344-ea68-51af34da2c66"
      },
      "execution_count": 32,
      "outputs": [
        {
          "output_type": "stream",
          "name": "stdout",
          "text": [
            "Looking in indexes: https://pypi.org/simple, https://us-python.pkg.dev/colab-wheels/public/simple/\n",
            "Requirement already satisfied: lazypredict in /usr/local/lib/python3.7/dist-packages (0.2.9)\n",
            "Requirement already satisfied: click==7.1.2 in /usr/local/lib/python3.7/dist-packages (from lazypredict) (7.1.2)\n",
            "Requirement already satisfied: pytest==5.4.3 in /usr/local/lib/python3.7/dist-packages (from lazypredict) (5.4.3)\n",
            "Requirement already satisfied: pandas==1.0.5 in /usr/local/lib/python3.7/dist-packages (from lazypredict) (1.0.5)\n",
            "Requirement already satisfied: scikit-learn==0.23.1 in /usr/local/lib/python3.7/dist-packages (from lazypredict) (0.23.1)\n",
            "Requirement already satisfied: lightgbm==2.3.1 in /usr/local/lib/python3.7/dist-packages (from lazypredict) (2.3.1)\n",
            "Requirement already satisfied: tqdm==4.56.0 in /usr/local/lib/python3.7/dist-packages (from lazypredict) (4.56.0)\n",
            "Requirement already satisfied: PyYAML==5.3.1 in /usr/local/lib/python3.7/dist-packages (from lazypredict) (5.3.1)\n",
            "Requirement already satisfied: scipy==1.5.4 in /usr/local/lib/python3.7/dist-packages (from lazypredict) (1.5.4)\n",
            "Requirement already satisfied: six==1.15.0 in /usr/local/lib/python3.7/dist-packages (from lazypredict) (1.15.0)\n",
            "Requirement already satisfied: joblib==1.0.0 in /usr/local/lib/python3.7/dist-packages (from lazypredict) (1.0.0)\n",
            "Requirement already satisfied: numpy==1.19.1 in /usr/local/lib/python3.7/dist-packages (from lazypredict) (1.19.1)\n",
            "Requirement already satisfied: xgboost==1.1.1 in /usr/local/lib/python3.7/dist-packages (from lazypredict) (1.1.1)\n",
            "Requirement already satisfied: python-dateutil>=2.6.1 in /usr/local/lib/python3.7/dist-packages (from pandas==1.0.5->lazypredict) (2.8.2)\n",
            "Requirement already satisfied: pytz>=2017.2 in /usr/local/lib/python3.7/dist-packages (from pandas==1.0.5->lazypredict) (2022.1)\n",
            "Requirement already satisfied: packaging in /usr/local/lib/python3.7/dist-packages (from pytest==5.4.3->lazypredict) (21.3)\n",
            "Requirement already satisfied: attrs>=17.4.0 in /usr/local/lib/python3.7/dist-packages (from pytest==5.4.3->lazypredict) (21.4.0)\n",
            "Requirement already satisfied: importlib-metadata>=0.12 in /usr/local/lib/python3.7/dist-packages (from pytest==5.4.3->lazypredict) (4.11.4)\n",
            "Requirement already satisfied: pluggy<1.0,>=0.12 in /usr/local/lib/python3.7/dist-packages (from pytest==5.4.3->lazypredict) (0.13.1)\n",
            "Requirement already satisfied: wcwidth in /usr/local/lib/python3.7/dist-packages (from pytest==5.4.3->lazypredict) (0.2.5)\n",
            "Requirement already satisfied: more-itertools>=4.0.0 in /usr/local/lib/python3.7/dist-packages (from pytest==5.4.3->lazypredict) (8.13.0)\n",
            "Requirement already satisfied: py>=1.5.0 in /usr/local/lib/python3.7/dist-packages (from pytest==5.4.3->lazypredict) (1.11.0)\n",
            "Requirement already satisfied: threadpoolctl>=2.0.0 in /usr/local/lib/python3.7/dist-packages (from scikit-learn==0.23.1->lazypredict) (3.1.0)\n",
            "Requirement already satisfied: zipp>=0.5 in /usr/local/lib/python3.7/dist-packages (from importlib-metadata>=0.12->pytest==5.4.3->lazypredict) (3.8.0)\n",
            "Requirement already satisfied: typing-extensions>=3.6.4 in /usr/local/lib/python3.7/dist-packages (from importlib-metadata>=0.12->pytest==5.4.3->lazypredict) (4.2.0)\n",
            "Requirement already satisfied: pyparsing!=3.0.5,>=2.0.2 in /usr/local/lib/python3.7/dist-packages (from packaging->pytest==5.4.3->lazypredict) (3.0.9)\n"
          ]
        }
      ]
    },
    {
      "cell_type": "code",
      "source": [
        "from lazypredict.Supervised import LazyRegressor\n",
        "clf = LazyRegressor(verbose=0)\n",
        "models,predictions = clf.fit(x_train, x_test, y_train, y_test)\n",
        "models"
      ],
      "metadata": {
        "colab": {
          "base_uri": "https://localhost:8080/",
          "height": 1000
        },
        "id": "AYqtnrOBWFXe",
        "outputId": "2d53eda3-c209-4c42-87a0-3772d9254796"
      },
      "execution_count": 33,
      "outputs": [
        {
          "output_type": "stream",
          "name": "stderr",
          "text": [
            "/usr/local/lib/python3.7/dist-packages/sklearn/utils/deprecation.py:143: FutureWarning: The sklearn.utils.testing module is  deprecated in version 0.22 and will be removed in version 0.24. The corresponding classes / functions should instead be imported from sklearn.utils. Anything that cannot be imported from sklearn.utils is now part of the private API.\n",
            "  warnings.warn(message, FutureWarning)\n",
            "100%|██████████| 42/42 [00:16<00:00,  2.51it/s]\n"
          ]
        },
        {
          "output_type": "execute_result",
          "data": {
            "text/plain": [
              "                               Adjusted R-Squared  R-Squared  RMSE  Time Taken\n",
              "Model                                                                         \n",
              "GradientBoostingRegressor                    0.89       0.90  0.13        0.52\n",
              "HuberRegressor                               0.88       0.89  0.13        0.10\n",
              "LassoLarsCV                                  0.88       0.89  0.13        0.18\n",
              "ElasticNetCV                                 0.88       0.89  0.13        0.58\n",
              "LassoCV                                      0.88       0.89  0.13        0.28\n",
              "BayesianRidge                                0.88       0.89  0.13        0.06\n",
              "LGBMRegressor                                0.88       0.89  0.13        1.10\n",
              "PoissonRegressor                             0.88       0.89  0.13        0.08\n",
              "RidgeCV                                      0.88       0.89  0.13        0.03\n",
              "Ridge                                        0.88       0.89  0.13        0.03\n",
              "Lars                                         0.88       0.89  0.13        0.08\n",
              "TransformedTargetRegressor                   0.88       0.89  0.13        0.04\n",
              "LinearRegression                             0.88       0.89  0.13        0.06\n",
              "HistGradientBoostingRegressor                0.88       0.89  0.13        1.32\n",
              "LarsCV                                       0.88       0.89  0.13        0.21\n",
              "ExtraTreesRegressor                          0.88       0.89  0.13        0.81\n",
              "LinearSVR                                    0.88       0.89  0.13        0.23\n",
              "RANSACRegressor                              0.88       0.89  0.14        0.62\n",
              "SGDRegressor                                 0.87       0.88  0.14        0.07\n",
              "LassoLarsIC                                  0.87       0.88  0.14        0.06\n",
              "XGBRegressor                                 0.87       0.88  0.14        1.26\n",
              "RandomForestRegressor                        0.87       0.88  0.14        2.56\n",
              "NuSVR                                        0.87       0.88  0.14        0.86\n",
              "PassiveAggressiveRegressor                   0.86       0.87  0.14        0.06\n",
              "SVR                                          0.86       0.87  0.14        0.20\n",
              "GammaRegressor                               0.86       0.87  0.15        0.03\n",
              "GeneralizedLinearRegressor                   0.86       0.87  0.15        0.06\n",
              "TweedieRegressor                             0.86       0.87  0.15        0.07\n",
              "BaggingRegressor                             0.85       0.86  0.15        0.22\n",
              "OrthogonalMatchingPursuitCV                  0.84       0.85  0.16        0.12\n",
              "KNeighborsRegressor                          0.81       0.83  0.17        0.10\n",
              "AdaBoostRegressor                            0.81       0.83  0.17        0.29\n",
              "OrthogonalMatchingPursuit                    0.79       0.80  0.18        0.03\n",
              "ExtraTreeRegressor                           0.71       0.73  0.21        0.10\n",
              "DecisionTreeRegressor                        0.68       0.71  0.22        0.12\n",
              "Lasso                                       -0.10      -0.01  0.40        0.03\n",
              "ElasticNet                                  -0.10      -0.01  0.40        0.04\n",
              "DummyRegressor                              -0.10      -0.01  0.40        0.03\n",
              "LassoLars                                   -0.10      -0.01  0.40        0.07\n",
              "MLPRegressor                               -15.86     -14.52  1.57        3.47\n",
              "GaussianProcessRegressor                  -826.48    -760.97 11.03        0.26\n",
              "KernelRidge                               -985.46    -907.37 12.04        0.15"
            ],
            "text/html": [
              "\n",
              "  <div id=\"df-0a20938d-420a-4543-b65a-891544657a2b\">\n",
              "    <div class=\"colab-df-container\">\n",
              "      <div>\n",
              "<style scoped>\n",
              "    .dataframe tbody tr th:only-of-type {\n",
              "        vertical-align: middle;\n",
              "    }\n",
              "\n",
              "    .dataframe tbody tr th {\n",
              "        vertical-align: top;\n",
              "    }\n",
              "\n",
              "    .dataframe thead th {\n",
              "        text-align: right;\n",
              "    }\n",
              "</style>\n",
              "<table border=\"1\" class=\"dataframe\">\n",
              "  <thead>\n",
              "    <tr style=\"text-align: right;\">\n",
              "      <th></th>\n",
              "      <th>Adjusted R-Squared</th>\n",
              "      <th>R-Squared</th>\n",
              "      <th>RMSE</th>\n",
              "      <th>Time Taken</th>\n",
              "    </tr>\n",
              "    <tr>\n",
              "      <th>Model</th>\n",
              "      <th></th>\n",
              "      <th></th>\n",
              "      <th></th>\n",
              "      <th></th>\n",
              "    </tr>\n",
              "  </thead>\n",
              "  <tbody>\n",
              "    <tr>\n",
              "      <th>GradientBoostingRegressor</th>\n",
              "      <td>0.89</td>\n",
              "      <td>0.90</td>\n",
              "      <td>0.13</td>\n",
              "      <td>0.52</td>\n",
              "    </tr>\n",
              "    <tr>\n",
              "      <th>HuberRegressor</th>\n",
              "      <td>0.88</td>\n",
              "      <td>0.89</td>\n",
              "      <td>0.13</td>\n",
              "      <td>0.10</td>\n",
              "    </tr>\n",
              "    <tr>\n",
              "      <th>LassoLarsCV</th>\n",
              "      <td>0.88</td>\n",
              "      <td>0.89</td>\n",
              "      <td>0.13</td>\n",
              "      <td>0.18</td>\n",
              "    </tr>\n",
              "    <tr>\n",
              "      <th>ElasticNetCV</th>\n",
              "      <td>0.88</td>\n",
              "      <td>0.89</td>\n",
              "      <td>0.13</td>\n",
              "      <td>0.58</td>\n",
              "    </tr>\n",
              "    <tr>\n",
              "      <th>LassoCV</th>\n",
              "      <td>0.88</td>\n",
              "      <td>0.89</td>\n",
              "      <td>0.13</td>\n",
              "      <td>0.28</td>\n",
              "    </tr>\n",
              "    <tr>\n",
              "      <th>BayesianRidge</th>\n",
              "      <td>0.88</td>\n",
              "      <td>0.89</td>\n",
              "      <td>0.13</td>\n",
              "      <td>0.06</td>\n",
              "    </tr>\n",
              "    <tr>\n",
              "      <th>LGBMRegressor</th>\n",
              "      <td>0.88</td>\n",
              "      <td>0.89</td>\n",
              "      <td>0.13</td>\n",
              "      <td>1.10</td>\n",
              "    </tr>\n",
              "    <tr>\n",
              "      <th>PoissonRegressor</th>\n",
              "      <td>0.88</td>\n",
              "      <td>0.89</td>\n",
              "      <td>0.13</td>\n",
              "      <td>0.08</td>\n",
              "    </tr>\n",
              "    <tr>\n",
              "      <th>RidgeCV</th>\n",
              "      <td>0.88</td>\n",
              "      <td>0.89</td>\n",
              "      <td>0.13</td>\n",
              "      <td>0.03</td>\n",
              "    </tr>\n",
              "    <tr>\n",
              "      <th>Ridge</th>\n",
              "      <td>0.88</td>\n",
              "      <td>0.89</td>\n",
              "      <td>0.13</td>\n",
              "      <td>0.03</td>\n",
              "    </tr>\n",
              "    <tr>\n",
              "      <th>Lars</th>\n",
              "      <td>0.88</td>\n",
              "      <td>0.89</td>\n",
              "      <td>0.13</td>\n",
              "      <td>0.08</td>\n",
              "    </tr>\n",
              "    <tr>\n",
              "      <th>TransformedTargetRegressor</th>\n",
              "      <td>0.88</td>\n",
              "      <td>0.89</td>\n",
              "      <td>0.13</td>\n",
              "      <td>0.04</td>\n",
              "    </tr>\n",
              "    <tr>\n",
              "      <th>LinearRegression</th>\n",
              "      <td>0.88</td>\n",
              "      <td>0.89</td>\n",
              "      <td>0.13</td>\n",
              "      <td>0.06</td>\n",
              "    </tr>\n",
              "    <tr>\n",
              "      <th>HistGradientBoostingRegressor</th>\n",
              "      <td>0.88</td>\n",
              "      <td>0.89</td>\n",
              "      <td>0.13</td>\n",
              "      <td>1.32</td>\n",
              "    </tr>\n",
              "    <tr>\n",
              "      <th>LarsCV</th>\n",
              "      <td>0.88</td>\n",
              "      <td>0.89</td>\n",
              "      <td>0.13</td>\n",
              "      <td>0.21</td>\n",
              "    </tr>\n",
              "    <tr>\n",
              "      <th>ExtraTreesRegressor</th>\n",
              "      <td>0.88</td>\n",
              "      <td>0.89</td>\n",
              "      <td>0.13</td>\n",
              "      <td>0.81</td>\n",
              "    </tr>\n",
              "    <tr>\n",
              "      <th>LinearSVR</th>\n",
              "      <td>0.88</td>\n",
              "      <td>0.89</td>\n",
              "      <td>0.13</td>\n",
              "      <td>0.23</td>\n",
              "    </tr>\n",
              "    <tr>\n",
              "      <th>RANSACRegressor</th>\n",
              "      <td>0.88</td>\n",
              "      <td>0.89</td>\n",
              "      <td>0.14</td>\n",
              "      <td>0.62</td>\n",
              "    </tr>\n",
              "    <tr>\n",
              "      <th>SGDRegressor</th>\n",
              "      <td>0.87</td>\n",
              "      <td>0.88</td>\n",
              "      <td>0.14</td>\n",
              "      <td>0.07</td>\n",
              "    </tr>\n",
              "    <tr>\n",
              "      <th>LassoLarsIC</th>\n",
              "      <td>0.87</td>\n",
              "      <td>0.88</td>\n",
              "      <td>0.14</td>\n",
              "      <td>0.06</td>\n",
              "    </tr>\n",
              "    <tr>\n",
              "      <th>XGBRegressor</th>\n",
              "      <td>0.87</td>\n",
              "      <td>0.88</td>\n",
              "      <td>0.14</td>\n",
              "      <td>1.26</td>\n",
              "    </tr>\n",
              "    <tr>\n",
              "      <th>RandomForestRegressor</th>\n",
              "      <td>0.87</td>\n",
              "      <td>0.88</td>\n",
              "      <td>0.14</td>\n",
              "      <td>2.56</td>\n",
              "    </tr>\n",
              "    <tr>\n",
              "      <th>NuSVR</th>\n",
              "      <td>0.87</td>\n",
              "      <td>0.88</td>\n",
              "      <td>0.14</td>\n",
              "      <td>0.86</td>\n",
              "    </tr>\n",
              "    <tr>\n",
              "      <th>PassiveAggressiveRegressor</th>\n",
              "      <td>0.86</td>\n",
              "      <td>0.87</td>\n",
              "      <td>0.14</td>\n",
              "      <td>0.06</td>\n",
              "    </tr>\n",
              "    <tr>\n",
              "      <th>SVR</th>\n",
              "      <td>0.86</td>\n",
              "      <td>0.87</td>\n",
              "      <td>0.14</td>\n",
              "      <td>0.20</td>\n",
              "    </tr>\n",
              "    <tr>\n",
              "      <th>GammaRegressor</th>\n",
              "      <td>0.86</td>\n",
              "      <td>0.87</td>\n",
              "      <td>0.15</td>\n",
              "      <td>0.03</td>\n",
              "    </tr>\n",
              "    <tr>\n",
              "      <th>GeneralizedLinearRegressor</th>\n",
              "      <td>0.86</td>\n",
              "      <td>0.87</td>\n",
              "      <td>0.15</td>\n",
              "      <td>0.06</td>\n",
              "    </tr>\n",
              "    <tr>\n",
              "      <th>TweedieRegressor</th>\n",
              "      <td>0.86</td>\n",
              "      <td>0.87</td>\n",
              "      <td>0.15</td>\n",
              "      <td>0.07</td>\n",
              "    </tr>\n",
              "    <tr>\n",
              "      <th>BaggingRegressor</th>\n",
              "      <td>0.85</td>\n",
              "      <td>0.86</td>\n",
              "      <td>0.15</td>\n",
              "      <td>0.22</td>\n",
              "    </tr>\n",
              "    <tr>\n",
              "      <th>OrthogonalMatchingPursuitCV</th>\n",
              "      <td>0.84</td>\n",
              "      <td>0.85</td>\n",
              "      <td>0.16</td>\n",
              "      <td>0.12</td>\n",
              "    </tr>\n",
              "    <tr>\n",
              "      <th>KNeighborsRegressor</th>\n",
              "      <td>0.81</td>\n",
              "      <td>0.83</td>\n",
              "      <td>0.17</td>\n",
              "      <td>0.10</td>\n",
              "    </tr>\n",
              "    <tr>\n",
              "      <th>AdaBoostRegressor</th>\n",
              "      <td>0.81</td>\n",
              "      <td>0.83</td>\n",
              "      <td>0.17</td>\n",
              "      <td>0.29</td>\n",
              "    </tr>\n",
              "    <tr>\n",
              "      <th>OrthogonalMatchingPursuit</th>\n",
              "      <td>0.79</td>\n",
              "      <td>0.80</td>\n",
              "      <td>0.18</td>\n",
              "      <td>0.03</td>\n",
              "    </tr>\n",
              "    <tr>\n",
              "      <th>ExtraTreeRegressor</th>\n",
              "      <td>0.71</td>\n",
              "      <td>0.73</td>\n",
              "      <td>0.21</td>\n",
              "      <td>0.10</td>\n",
              "    </tr>\n",
              "    <tr>\n",
              "      <th>DecisionTreeRegressor</th>\n",
              "      <td>0.68</td>\n",
              "      <td>0.71</td>\n",
              "      <td>0.22</td>\n",
              "      <td>0.12</td>\n",
              "    </tr>\n",
              "    <tr>\n",
              "      <th>Lasso</th>\n",
              "      <td>-0.10</td>\n",
              "      <td>-0.01</td>\n",
              "      <td>0.40</td>\n",
              "      <td>0.03</td>\n",
              "    </tr>\n",
              "    <tr>\n",
              "      <th>ElasticNet</th>\n",
              "      <td>-0.10</td>\n",
              "      <td>-0.01</td>\n",
              "      <td>0.40</td>\n",
              "      <td>0.04</td>\n",
              "    </tr>\n",
              "    <tr>\n",
              "      <th>DummyRegressor</th>\n",
              "      <td>-0.10</td>\n",
              "      <td>-0.01</td>\n",
              "      <td>0.40</td>\n",
              "      <td>0.03</td>\n",
              "    </tr>\n",
              "    <tr>\n",
              "      <th>LassoLars</th>\n",
              "      <td>-0.10</td>\n",
              "      <td>-0.01</td>\n",
              "      <td>0.40</td>\n",
              "      <td>0.07</td>\n",
              "    </tr>\n",
              "    <tr>\n",
              "      <th>MLPRegressor</th>\n",
              "      <td>-15.86</td>\n",
              "      <td>-14.52</td>\n",
              "      <td>1.57</td>\n",
              "      <td>3.47</td>\n",
              "    </tr>\n",
              "    <tr>\n",
              "      <th>GaussianProcessRegressor</th>\n",
              "      <td>-826.48</td>\n",
              "      <td>-760.97</td>\n",
              "      <td>11.03</td>\n",
              "      <td>0.26</td>\n",
              "    </tr>\n",
              "    <tr>\n",
              "      <th>KernelRidge</th>\n",
              "      <td>-985.46</td>\n",
              "      <td>-907.37</td>\n",
              "      <td>12.04</td>\n",
              "      <td>0.15</td>\n",
              "    </tr>\n",
              "  </tbody>\n",
              "</table>\n",
              "</div>\n",
              "      <button class=\"colab-df-convert\" onclick=\"convertToInteractive('df-0a20938d-420a-4543-b65a-891544657a2b')\"\n",
              "              title=\"Convert this dataframe to an interactive table.\"\n",
              "              style=\"display:none;\">\n",
              "        \n",
              "  <svg xmlns=\"http://www.w3.org/2000/svg\" height=\"24px\"viewBox=\"0 0 24 24\"\n",
              "       width=\"24px\">\n",
              "    <path d=\"M0 0h24v24H0V0z\" fill=\"none\"/>\n",
              "    <path d=\"M18.56 5.44l.94 2.06.94-2.06 2.06-.94-2.06-.94-.94-2.06-.94 2.06-2.06.94zm-11 1L8.5 8.5l.94-2.06 2.06-.94-2.06-.94L8.5 2.5l-.94 2.06-2.06.94zm10 10l.94 2.06.94-2.06 2.06-.94-2.06-.94-.94-2.06-.94 2.06-2.06.94z\"/><path d=\"M17.41 7.96l-1.37-1.37c-.4-.4-.92-.59-1.43-.59-.52 0-1.04.2-1.43.59L10.3 9.45l-7.72 7.72c-.78.78-.78 2.05 0 2.83L4 21.41c.39.39.9.59 1.41.59.51 0 1.02-.2 1.41-.59l7.78-7.78 2.81-2.81c.8-.78.8-2.07 0-2.86zM5.41 20L4 18.59l7.72-7.72 1.47 1.35L5.41 20z\"/>\n",
              "  </svg>\n",
              "      </button>\n",
              "      \n",
              "  <style>\n",
              "    .colab-df-container {\n",
              "      display:flex;\n",
              "      flex-wrap:wrap;\n",
              "      gap: 12px;\n",
              "    }\n",
              "\n",
              "    .colab-df-convert {\n",
              "      background-color: #E8F0FE;\n",
              "      border: none;\n",
              "      border-radius: 50%;\n",
              "      cursor: pointer;\n",
              "      display: none;\n",
              "      fill: #1967D2;\n",
              "      height: 32px;\n",
              "      padding: 0 0 0 0;\n",
              "      width: 32px;\n",
              "    }\n",
              "\n",
              "    .colab-df-convert:hover {\n",
              "      background-color: #E2EBFA;\n",
              "      box-shadow: 0px 1px 2px rgba(60, 64, 67, 0.3), 0px 1px 3px 1px rgba(60, 64, 67, 0.15);\n",
              "      fill: #174EA6;\n",
              "    }\n",
              "\n",
              "    [theme=dark] .colab-df-convert {\n",
              "      background-color: #3B4455;\n",
              "      fill: #D2E3FC;\n",
              "    }\n",
              "\n",
              "    [theme=dark] .colab-df-convert:hover {\n",
              "      background-color: #434B5C;\n",
              "      box-shadow: 0px 1px 3px 1px rgba(0, 0, 0, 0.15);\n",
              "      filter: drop-shadow(0px 1px 2px rgba(0, 0, 0, 0.3));\n",
              "      fill: #FFFFFF;\n",
              "    }\n",
              "  </style>\n",
              "\n",
              "      <script>\n",
              "        const buttonEl =\n",
              "          document.querySelector('#df-0a20938d-420a-4543-b65a-891544657a2b button.colab-df-convert');\n",
              "        buttonEl.style.display =\n",
              "          google.colab.kernel.accessAllowed ? 'block' : 'none';\n",
              "\n",
              "        async function convertToInteractive(key) {\n",
              "          const element = document.querySelector('#df-0a20938d-420a-4543-b65a-891544657a2b');\n",
              "          const dataTable =\n",
              "            await google.colab.kernel.invokeFunction('convertToInteractive',\n",
              "                                                     [key], {});\n",
              "          if (!dataTable) return;\n",
              "\n",
              "          const docLinkHtml = 'Like what you see? Visit the ' +\n",
              "            '<a target=\"_blank\" href=https://colab.research.google.com/notebooks/data_table.ipynb>data table notebook</a>'\n",
              "            + ' to learn more about interactive tables.';\n",
              "          element.innerHTML = '';\n",
              "          dataTable['output_type'] = 'display_data';\n",
              "          await google.colab.output.renderOutput(dataTable, element);\n",
              "          const docLink = document.createElement('div');\n",
              "          docLink.innerHTML = docLinkHtml;\n",
              "          element.appendChild(docLink);\n",
              "        }\n",
              "      </script>\n",
              "    </div>\n",
              "  </div>\n",
              "  "
            ]
          },
          "metadata": {},
          "execution_count": 33
        }
      ]
    },
    {
      "cell_type": "code",
      "source": [
        "# from sklearn.ensemble import ExtraTreesRegressor\n",
        "# reg = ExtraTreesRegressor(n_estimators=1000, random_state=43).fit(x_train, y_train)\n",
        "# reg.score(x_test, y_test)"
      ],
      "metadata": {
        "id": "GoRIiKUqOIFg"
      },
      "execution_count": 34,
      "outputs": []
    },
    {
      "cell_type": "code",
      "source": [
        "from sklearn.ensemble import GradientBoostingRegressor\n",
        "reg = GradientBoostingRegressor(random_state=0,n_estimators=90,max_depth=3)\n",
        "reg.fit(x_train, y_train)\n",
        "reg.score(x_test,y_test)"
      ],
      "metadata": {
        "colab": {
          "base_uri": "https://localhost:8080/"
        },
        "id": "kPBglt8YWuDs",
        "outputId": "521d0cc6-d237-4a17-c866-55e41b8addfd"
      },
      "execution_count": 35,
      "outputs": [
        {
          "output_type": "execute_result",
          "data": {
            "text/plain": [
              "0.9019004752616839"
            ]
          },
          "metadata": {},
          "execution_count": 35
        }
      ]
    },
    {
      "cell_type": "code",
      "source": [
        "#lr = linear_model.LinearRegression()"
      ],
      "metadata": {
        "id": "4lbGwEmqtu2v"
      },
      "execution_count": 36,
      "outputs": []
    },
    {
      "cell_type": "code",
      "source": [
        "#model = lr.fit(x_train,y_train)"
      ],
      "metadata": {
        "id": "HylUGdbUt1WR"
      },
      "execution_count": 37,
      "outputs": []
    },
    {
      "cell_type": "code",
      "source": [
        "print(\"R^2 is: \\n\",reg.score(x_test,y_test))\n",
        "predictions = reg.predict(x_test)"
      ],
      "metadata": {
        "colab": {
          "base_uri": "https://localhost:8080/"
        },
        "id": "TWFH5LfCt9ve",
        "outputId": "28df2978-29c0-4928-bd01-a57cb1d08880"
      },
      "execution_count": 38,
      "outputs": [
        {
          "output_type": "stream",
          "name": "stdout",
          "text": [
            "R^2 is: \n",
            " 0.9019004752616839\n"
          ]
        }
      ]
    },
    {
      "cell_type": "code",
      "source": [
        "print('RMSE :', mean_squared_error(y_test,predictions))"
      ],
      "metadata": {
        "colab": {
          "base_uri": "https://localhost:8080/"
        },
        "id": "Kd5oOwZXuNjt",
        "outputId": "a07bb1bc-7ff4-4e43-9307-0b579fdfb57e"
      },
      "execution_count": 39,
      "outputs": [
        {
          "output_type": "stream",
          "name": "stdout",
          "text": [
            "RMSE : 0.015662072938995047\n"
          ]
        }
      ]
    },
    {
      "cell_type": "code",
      "source": [
        "actual_values = y_test\n",
        "plt.scatter(predictions,actual_values,alpha=0.75,color='b')\n",
        "plt.xlabel('Predicted Price')\n",
        "plt.ylabel('Actual Price')\n",
        "plt.title('Linear Regression Model')\n",
        "plt.show()"
      ],
      "metadata": {
        "colab": {
          "base_uri": "https://localhost:8080/",
          "height": 295
        },
        "id": "ijSFFa3euZi6",
        "outputId": "2664d478-9495-452f-cb14-35218b5e10ad"
      },
      "execution_count": 40,
      "outputs": [
        {
          "output_type": "display_data",
          "data": {
            "text/plain": [
              "<Figure size 432x288 with 1 Axes>"
            ],
            "image/png": "[encoded data removed]"
          },
          "metadata": {
            "needs_background": "light"
          }
        }
      ]
    },
    {
      "cell_type": "code",
      "source": [
        "for i in range (-2, 3):\n",
        "    alpha = 10**i\n",
        "    rm = linear_model.Ridge(alpha=alpha)\n",
        "    ridge_model = rm.fit(x_train, y_train)\n",
        "    preds_ridge = ridge_model.predict(x_test)\n",
        "\n",
        "    plt.scatter(preds_ridge, actual_values, alpha=.75, color='b')\n",
        "    plt.xlabel('Predicted Price')\n",
        "    plt.ylabel('Actual Price')\n",
        "    plt.title('Ridge Regularization with alpha = {}'.format(alpha))\n",
        "    overlay = 'R^2 is: {}\\nRMSE is: {}'.format(\n",
        "                    ridge_model.score(x_test, y_test),\n",
        "                    mean_squared_error(y_test, preds_ridge))\n",
        "    plt.annotate(s=overlay,xy=(12.1,10.6),size='x-large')\n",
        "    plt.show()"
      ],
      "metadata": {
        "colab": {
          "base_uri": "https://localhost:8080/",
          "height": 1000
        },
        "id": "9cnpVcIFvmnx",
        "outputId": "c4f7328d-0c6e-4355-d98f-38f9c62fe7ff"
      },
      "execution_count": 41,
      "outputs": [
        {
          "output_type": "display_data",
          "data": {
            "text/plain": [
              "<Figure size 432x288 with 1 Axes>"
            ],
            "image/png": "[encoded data removed]"
          },
          "metadata": {
            "needs_background": "light"
          }
        },
        {
          "output_type": "display_data",
          "data": {
            "text/plain": [
              "<Figure size 432x288 with 1 Axes>"
            ],
            "image/png": "[encoded data removed]"
          },
          "metadata": {
            "needs_background": "light"
          }
        },
        {
          "output_type": "display_data",
          "data": {
            "text/plain": [
              "<Figure size 432x288 with 1 Axes>"
            ],
            "image/png": "[encoded data removed]"
          },
          "metadata": {
            "needs_background": "light"
          }
        },
        {
          "output_type": "display_data",
          "data": {
            "text/plain": [
              "<Figure size 432x288 with 1 Axes>"
            ],
            "image/png": "[encoded data removed]"
          },
          "metadata": {
            "needs_background": "light"
          }
        },
        {
          "output_type": "display_data",
          "data": {
            "text/plain": [
              "<Figure size 432x288 with 1 Axes>"
            ],
            "image/png": "[encoded data removed]"
          },
          "metadata": {
            "needs_background": "light"
          }
        }
      ]
    },
    {
      "cell_type": "code",
      "source": [
        "print(\"R^2 is: \\n\", reg.score(x_test, y_test))"
      ],
      "metadata": {
        "colab": {
          "base_uri": "https://localhost:8080/"
        },
        "id": "2r5ZgIbcx9rg",
        "outputId": "9e4bb48e-bb33-41df-8b2e-b76745ffa282"
      },
      "execution_count": 42,
      "outputs": [
        {
          "output_type": "stream",
          "name": "stdout",
          "text": [
            "R^2 is: \n",
            " 0.9019004752616839\n"
          ]
        }
      ]
    },
    {
      "cell_type": "code",
      "source": [
        "submission = pd.DataFrame()"
      ],
      "metadata": {
        "id": "Q0WjJzmuyJZb"
      },
      "execution_count": 43,
      "outputs": []
    },
    {
      "cell_type": "code",
      "source": [
        "submission['Id'] = test.Id"
      ],
      "metadata": {
        "id": "X0n7CP6RyQuT"
      },
      "execution_count": 44,
      "outputs": []
    },
    {
      "cell_type": "code",
      "source": [
        "feats = test.select_dtypes(include = [np.number]).drop(['Id'], axis=1).interpolate()"
      ],
      "metadata": {
        "id": "sLcRW-qByUJl"
      },
      "execution_count": 45,
      "outputs": []
    },
    {
      "cell_type": "code",
      "source": [
        "predictions = reg.predict(feats)"
      ],
      "metadata": {
        "id": "qevSyslYymnL"
      },
      "execution_count": 46,
      "outputs": []
    },
    {
      "cell_type": "code",
      "source": [
        "final_predictions = np.exp(predictions)"
      ],
      "metadata": {
        "id": "5FbbkZMjyrCx"
      },
      "execution_count": 47,
      "outputs": []
    },
    {
      "cell_type": "code",
      "source": [
        "print(\"Original predictions are: \\n\", predictions[:10], \"\\n\")\n",
        "print(\"Final predictions are: \\n\", final_predictions[:10])"
      ],
      "metadata": {
        "colab": {
          "base_uri": "https://localhost:8080/"
        },
        "id": "NvgPeHdvyusE",
        "outputId": "36a6e065-155e-4460-b93b-aebbf07702c6"
      },
      "execution_count": 48,
      "outputs": [
        {
          "output_type": "stream",
          "name": "stdout",
          "text": [
            "Original predictions are: \n",
            " [11.7931942  12.01496575 12.1489003  12.11993197 12.15632598 12.09637187\n",
            " 12.06406356 12.0161727  12.07222387 11.67346225] \n",
            "\n",
            "Final predictions are: \n",
            " [132348.54265627 165208.85692767 188886.25715711 183493.0308956\n",
            " 190294.08611039 179220.44614551 173522.67537526 165408.37541598\n",
            " 174944.46655334 117414.09578792]\n"
          ]
        }
      ]
    },
    {
      "cell_type": "code",
      "source": [
        "submission['SalePrice'] = final_predictions"
      ],
      "metadata": {
        "id": "Dl5x99kRyzqp"
      },
      "execution_count": 49,
      "outputs": []
    },
    {
      "cell_type": "code",
      "source": [
        "print(submission.head())"
      ],
      "metadata": {
        "colab": {
          "base_uri": "https://localhost:8080/"
        },
        "id": "s91FQps2y7Dk",
        "outputId": "95880308-0e0e-4575-8715-652db74f7534"
      },
      "execution_count": 50,
      "outputs": [
        {
          "output_type": "stream",
          "name": "stdout",
          "text": [
            "     Id  SalePrice\n",
            "0  1461  132348.54\n",
            "1  1462  165208.86\n",
            "2  1463  188886.26\n",
            "3  1464  183493.03\n",
            "4  1465  190294.09\n"
          ]
        }
      ]
    },
    {
      "cell_type": "code",
      "source": [
        "submission.to_csv('submission4.csv',index=False)"
      ],
      "metadata": {
        "id": "VRsuKLEPy8w6"
      },
      "execution_count": 51,
      "outputs": []
    }
  ]
}